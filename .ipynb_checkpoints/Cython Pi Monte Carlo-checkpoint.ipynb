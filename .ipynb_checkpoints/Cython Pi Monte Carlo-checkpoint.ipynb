{
 "metadata": {
  "name": "",
  "signature": "sha256:1506732f3073f3b5f3357f9bfbb56432cbce5cb99b553e31cf327c8df59362ea"
 },
 "nbformat": 3,
 "nbformat_minor": 0,
 "worksheets": [
  {
   "cells": [
    {
     "cell_type": "heading",
     "level": 1,
     "metadata": {},
     "source": [
      "Pi Monte Carlo With and Without Cython"
     ]
    },
    {
     "cell_type": "markdown",
     "metadata": {},
     "source": [
      "In this tutorial, we will take a Python program which estimates pi using Monte Carlo integration and we will dramatically speed it up using Cython, the Python compiler. \n",
      "\n",
      "Cython, which stands for \"C-extensions for Python,\" takes python code, converts it into optimized C code, and then compiles the C code into a library which the Python interpreter can read and interact with.\n",
      "\n",
      "Cython is installed by default in Anaconda. Alternatively, you can find installation instructions here:\n",
      "http://docs.cython.org/src/quickstart/install.html\n",
      "\n",
      "Note that Cython requires a C compiler, which you may need to install yourself. I won't cover that here. I will, however, cover how to speed up native Python code by using Cython.\n",
      "\n",
      "Let's get to it."
     ]
    },
    {
     "cell_type": "heading",
     "level": 2,
     "metadata": {},
     "source": [
      "Compiling in an IPython Notebook"
     ]
    },
    {
     "cell_type": "markdown",
     "metadata": {},
     "source": [
      " First, here's the code we will compile, in raw Python:"
     ]
    },
    {
     "cell_type": "code",
     "collapsed": false,
     "input": [
      "# First import libraries we need:\n",
      "import random\n",
      "\n",
      "def estimate_pi(square_count,circle_count):\n",
      "    \"\"\"\n",
      "    The area of the circle divided by the area of the square is pi/4.\n",
      "    \"\"\"\n",
      "    if square_count != 0:\n",
      "        return 4*float(circle_count)/float(square_count)\n",
      "    else:\n",
      "        return 0\n",
      "\n",
      "def monte_carlo_for_pi(num_random_samples):\n",
      "    \"\"\"\n",
      "    Calculates the value for pi by monte carlo algorithm. Generates\n",
      "    data that can be animated.\n",
      "    \"\"\"\n",
      "    # variable definitions\n",
      "    radius = 1 # Radius of the circle and square\n",
      "    rectangle_xmin = -radius\n",
      "    rectangle_ymin = rectangle_xmin\n",
      "    rectangle_width = 2*radius\n",
      "    rectangle_height = rectangle_width\n",
      "    rectangle_xmax = rectangle_xmin + rectangle_width\n",
      "    rectangle_ymax = rectangle_ymin + rectangle_height\n",
      "    \n",
      "    # The total counta nd circle count\n",
      "    total_count = 0\n",
      "    circle_count = 0\n",
      "\n",
      "    # Start the pseudorandom process\n",
      "    random.seed()\n",
      "\n",
      "    # throw darts and see if they land in the circle\n",
      "    for i in range(num_random_samples):\n",
      "        x = random.uniform(rectangle_xmin,rectangle_xmax)\n",
      "        y = random.uniform(rectangle_ymin,rectangle_ymax)\n",
      "        if x**2 + y**2 <= radius:\n",
      "            circle_count += 1\n",
      "        total_count += 1\n",
      "\n",
      "    return estimate_pi(total_count,circle_count)"
     ],
     "language": "python",
     "metadata": {},
     "outputs": [],
     "prompt_number": 1
    },
    {
     "cell_type": "markdown",
     "metadata": {},
     "source": [
      "Now we can call the function \"monte_carlo_for_pi(n)\" to throw n darts at a square with a circle inscribed in it. Then we calculate pi based on the fraction of those darts that fall within the inscribed circle. For example:"
     ]
    },
    {
     "cell_type": "code",
     "collapsed": false,
     "input": [
      "monte_carlo_for_pi(1000)"
     ],
     "language": "python",
     "metadata": {},
     "outputs": [
      {
       "metadata": {},
       "output_type": "pyout",
       "prompt_number": 2,
       "text": [
        "3.24"
       ]
      }
     ],
     "prompt_number": 2
    },
    {
     "cell_type": "markdown",
     "metadata": {},
     "source": [
      "The estimate should be pretty close. And the larger \"n\" is, the better the estimate should be. Let's see how far we can go. Let's time it for a REALLY big value of n:"
     ]
    },
    {
     "cell_type": "code",
     "collapsed": false,
     "input": [
      "%%timeit\n",
      "monte_carlo_for_pi(1000000)"
     ],
     "language": "python",
     "metadata": {},
     "outputs": [
      {
       "output_type": "stream",
       "stream": "stdout",
       "text": [
        "1 loops, best of 3: 3.26 s per loop\n"
       ]
      }
     ],
     "prompt_number": 3
    },
    {
     "cell_type": "markdown",
     "metadata": {},
     "source": [
      "About 3.5 seconds. Not bad. But it would be tedious to make the code run faster. Now let's look at the Cython code. \n",
      "\n",
      "First, let's import cython"
     ]
    },
    {
     "cell_type": "code",
     "collapsed": false,
     "input": [
      "import cython"
     ],
     "language": "python",
     "metadata": {},
     "outputs": [],
     "prompt_number": 4
    },
    {
     "cell_type": "markdown",
     "metadata": {},
     "source": [
      "Cython actually comes with a mode that lets us compile code in the IPython notebook inline, so let's do that."
     ]
    },
    {
     "cell_type": "code",
     "collapsed": false,
     "input": [
      "%load_ext cythonmagic"
     ],
     "language": "python",
     "metadata": {},
     "outputs": [],
     "prompt_number": 5
    },
    {
     "cell_type": "markdown",
     "metadata": {},
     "source": [
      "And now the Cython code. To tell Cython to compile the Python code, we use the cython flag. Note that Cython can compile raw Python code with no changes whatsoever and you should still see a speedup:"
     ]
    },
    {
     "cell_type": "code",
     "collapsed": false,
     "input": [
      "%%cython\n",
      "import random\n",
      "def estimate_pi_cy1(square_count,circle_count):\n",
      "    \"\"\"\n",
      "    The area of the circle divided by the area of the square is pi/4.\n",
      "    \"\"\"\n",
      "    if square_count != 0:\n",
      "        return 4*float(circle_count)/float(square_count)\n",
      "    else:\n",
      "        return 0\n",
      "\n",
      "def monte_carlo_for_pi_cy1(num_random_samples):\n",
      "    \"\"\"\n",
      "    Calculates the value for pi by monte carlo algorithm. Generates\n",
      "    data that can be animated.\n",
      "    \"\"\"\n",
      "    # variable definitions\n",
      "    radius = 1 # Radius of the circle and square\n",
      "    rectangle_xmin = -radius\n",
      "    rectangle_ymin = rectangle_xmin\n",
      "    rectangle_width = 2*radius\n",
      "    rectangle_height = rectangle_width\n",
      "    rectangle_xmax = rectangle_xmin + rectangle_width\n",
      "    rectangle_ymax = rectangle_ymin + rectangle_height\n",
      "    \n",
      "    # The total counta nd circle count\n",
      "    total_count = 0\n",
      "    circle_count = 0\n",
      "\n",
      "    # Start the pseudorandom process\n",
      "    random.seed()\n",
      "\n",
      "    # throw darts and see if they land in the circle\n",
      "    for i in range(num_random_samples):\n",
      "        x = random.uniform(rectangle_xmin,rectangle_xmax)\n",
      "        y = random.uniform(rectangle_ymin,rectangle_ymax)\n",
      "        if x**2 + y**2 <= radius:\n",
      "            circle_count += 1\n",
      "        total_count += 1\n",
      "\n",
      "    return estimate_pi_cy1(total_count,circle_count)"
     ],
     "language": "python",
     "metadata": {},
     "outputs": [],
     "prompt_number": 6
    },
    {
     "cell_type": "code",
     "collapsed": false,
     "input": [
      "%%timeit\n",
      "pi_estimate = monte_carlo_for_pi_cy1(1000000)"
     ],
     "language": "python",
     "metadata": {},
     "outputs": [
      {
       "output_type": "stream",
       "stream": "stdout",
       "text": [
        "1 loops, best of 3: 2.64 s per loop\n"
       ]
      }
     ],
     "prompt_number": 7
    },
    {
     "cell_type": "markdown",
     "metadata": {},
     "source": [
      "Now about 2.75 seconds. We're already doing about 30% better!\n",
      "\n",
      "But we can do better if we add some C syntax to our Python code to give Cython some hints. First, let's define some variables:"
     ]
    },
    {
     "cell_type": "code",
     "collapsed": false,
     "input": [
      "%%cython \n",
      "cdef double compiled_double = 2.3\n",
      "cdef int compiled_integer = 1"
     ],
     "language": "python",
     "metadata": {},
     "outputs": [],
     "prompt_number": 8
    },
    {
     "cell_type": "markdown",
     "metadata": {},
     "source": [
      "Notice how this differs from our previous variable definitions. We declare we are defining a variable with the \"cdef\" command. And we declare what _TYPE_ of variable we are defining.\n",
      "\n",
      "Unfortunately, when Cython compiles a global constant, it is not accessible by Python, only by the Cython compiler, and _only_ in the cell you define the constants in. So we can't actually call these variables:"
     ]
    },
    {
     "cell_type": "code",
     "collapsed": false,
     "input": [
      "print(compiled_integer)"
     ],
     "language": "python",
     "metadata": {},
     "outputs": [
      {
       "ename": "NameError",
       "evalue": "name 'compiled_integer' is not defined",
       "output_type": "pyerr",
       "traceback": [
        "\u001b[1;31m---------------------------------------------------------------------------\u001b[0m\n\u001b[1;31mNameError\u001b[0m                                 Traceback (most recent call last)",
        "\u001b[1;32m<ipython-input-9-3bb8d3a55806>\u001b[0m in \u001b[0;36m<module>\u001b[1;34m()\u001b[0m\n\u001b[1;32m----> 1\u001b[1;33m \u001b[1;32mprint\u001b[0m\u001b[1;33m(\u001b[0m\u001b[0mcompiled_integer\u001b[0m\u001b[1;33m)\u001b[0m\u001b[1;33m\u001b[0m\u001b[0m\n\u001b[0m",
        "\u001b[1;31mNameError\u001b[0m: name 'compiled_integer' is not defined"
       ]
      }
     ],
     "prompt_number": 9
    },
    {
     "cell_type": "markdown",
     "metadata": {},
     "source": [
      "Similarly, we can now define a _function_ in cython using a special definition syntax:"
     ]
    },
    {
     "cell_type": "code",
     "collapsed": false,
     "input": [
      "%%cython\n",
      "cpdef double multiply_double_and_int(double x, int y):\n",
      "    return x*y"
     ],
     "language": "python",
     "metadata": {},
     "outputs": [],
     "prompt_number": 10
    },
    {
     "cell_type": "markdown",
     "metadata": {},
     "source": [
      "Here we tell Cython what type the output will be (double) and what types the inputs will be (ints). Note that all type definitions are _optional_. We can do without _any_ of them. And sometimes (if, for example, a function takes many different types as input), we have to do without type definitions. But they help.\n",
      "\n",
      "We can call function defined with Cython and have it interact normally with Python code:"
     ]
    },
    {
     "cell_type": "code",
     "collapsed": false,
     "input": [
      "1 + multiply_double_and_int(22.5,3)"
     ],
     "language": "python",
     "metadata": {},
     "outputs": [
      {
       "metadata": {},
       "output_type": "pyout",
       "prompt_number": 11,
       "text": [
        "68.5"
       ]
      }
     ],
     "prompt_number": 11
    },
    {
     "cell_type": "markdown",
     "metadata": {},
     "source": [
      "Here's the whole monte carlo code, including a more sophisticated function definition. Note that in an IPython notebook, if you want functions compiled with Cython to talk to each other, you need to compile them all in the same "
     ]
    },
    {
     "cell_type": "code",
     "collapsed": false,
     "input": [
      "%%cython\n",
      "import random\n",
      "\n",
      "# Important constants\n",
      "# ----------------------------------------------------------------------\n",
      "# Note that we use the \"cdef\" command to define variables. Also note\n",
      "# that we declare their type.\n",
      "cdef double radius = 1.0 # Radius of the circle and square\n",
      "cdef double rectangle_xmin = -radius\n",
      "cdef double rectangle_ymin = rectangle_xmin\n",
      "cdef double rectangle_width = 2*radius\n",
      "cdef double rectangle_height = rectangle_width\n",
      "cdef double rectangle_xmax = rectangle_xmin + rectangle_width\n",
      "cdef double rectangle_ymax = rectangle_ymin + rectangle_height\n",
      "# ----------------------------------------------------------------------\n",
      "\n",
      "cpdef double estimate_pi_cy2(int square_count,int circle_count):\n",
      "    \"\"\"\n",
      "    The area of the circle divided by the area of the square is pi/4.\n",
      "    \"\"\"\n",
      "    if square_count != 0:\n",
      "        return (4.0*circle_count)/square_count\n",
      "    else:\n",
      "        return 0.0\n",
      "\n",
      "cpdef double monte_carlo_for_pi_cy2(int num_random_samples):\n",
      "    \"\"\"\n",
      "    Calculates the value for pi by monte carlo algorithm. Generates\n",
      "    data that can be animated.\n",
      "    \"\"\"\n",
      "    # The total counta nd circle count\n",
      "    cdef int total_count = 0\n",
      "    cdef int circle_count = 0\n",
      "\n",
      "    # To get a speed up, we need to declare variables before we use them\n",
      "    cdef double x,y # These will be the x,y coordinates of darts.\n",
      "\n",
      "    # Start the pseudorandom process\n",
      "    random.seed()\n",
      "\n",
      "    # throw darts and see if they land in the circle\n",
      "    cdef int i # to get a speedup, loop variables must be declared.\n",
      "    for i in range(num_random_samples):\n",
      "        x = random.uniform(rectangle_xmin,rectangle_xmax)\n",
      "        y = random.uniform(rectangle_ymin,rectangle_ymax)\n",
      "        if x**2 + y**2 <= radius:\n",
      "            circle_count += 1\n",
      "        total_count += 1\n",
      "\n",
      "    return estimate_pi_cy2(total_count,circle_count)\n"
     ],
     "language": "python",
     "metadata": {},
     "outputs": [],
     "prompt_number": 12
    },
    {
     "cell_type": "markdown",
     "metadata": {},
     "source": [
      "Notice that we declare some variables without assigning them. This is so that we can declare them before we use them. This is extremely important within for loops, declaring the loop variable (for instance, the i) dramatically speeds up for loops."
     ]
    },
    {
     "cell_type": "markdown",
     "metadata": {},
     "source": [
      "Let's see how much faster things are NOW:"
     ]
    },
    {
     "cell_type": "code",
     "collapsed": false,
     "input": [
      "%%timeit\n",
      "monte_carlo_for_pi_cy2(1000000)"
     ],
     "language": "python",
     "metadata": {},
     "outputs": [
      {
       "output_type": "stream",
       "stream": "stdout",
       "text": [
        "1 loops, best of 3: 1.99 s per loop\n"
       ]
      }
     ],
     "prompt_number": 14
    },
    {
     "cell_type": "markdown",
     "metadata": {},
     "source": [
      "2 seconds! We've cut down the runtime by almost 50%! And when using numpy arrays it's possible to get much greater speedup."
     ]
    },
    {
     "cell_type": "heading",
     "level": 2,
     "metadata": {},
     "source": [
      "Compiling using setup.py"
     ]
    },
    {
     "cell_type": "markdown",
     "metadata": {},
     "source": [
      "In this notebook, I explain how to write code for Cython, but I don't tell you how to compile standalone programs or libraries (which you can import) in Cython. \n",
      "\n",
      "I've included in this directory a file called \"pi_monte_carlo.pyx\" This is a cython source code file. All cython source code files end in \".pyx\" I've also included a file called \"setup.py\" This is the file that tells Cython how to compile your code. Take a look at both files if you like.\n",
      "\n",
      "If you want to compile the .pyx file, run:\n",
      "python setup.py build_ext --inplace\n",
      "\n",
      "Cython will generate two new files,\"pi_monte_carlo.c\" and \"pi_monte_carlo.o\" The file ending in \".c\" is optimized C code. The file ending in \".o\" is a compiled library which Python can interact with. To use it, simply import pi_monte_carlo as you normally would."
     ]
    },
    {
     "cell_type": "heading",
     "level": 2,
     "metadata": {},
     "source": [
      "Next Steps and Documentation"
     ]
    },
    {
     "cell_type": "markdown",
     "metadata": {},
     "source": [
      "There's a lot more to cython than I've explained here. But the cython documentation is generally very good. You can find almost anything you need here:\n",
      "http://docs.cython.org/\n",
      "\n",
      "Of particular interest are the tutorials, which offer simple explanations of how to do a variety of useful tasks:\n",
      "http://docs.cython.org/src/tutorial/index.html\n",
      "\n",
      "I haven't told you how to interact with numpy arrays, which requires a bit of syntactic magic. Numpy has provided Cython with a set of C libraries it can compile against to write very efficient code that interacts with arrays, much more efficient than if we had to use the Python bindings. To learn how to do this, read this web page:\n",
      "http://docs.cython.org/src/tutorial/numpy.html"
     ]
    },
    {
     "cell_type": "code",
     "collapsed": false,
     "input": [],
     "language": "python",
     "metadata": {},
     "outputs": []
    }
   ],
   "metadata": {}
  }
 ]
}